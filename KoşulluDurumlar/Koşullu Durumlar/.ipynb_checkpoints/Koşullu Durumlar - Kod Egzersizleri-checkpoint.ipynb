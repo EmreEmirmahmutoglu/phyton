{
 "cells": [
  {
   "cell_type": "markdown",
   "metadata": {},
   "source": [
    "# Kullanıcıdan, kullanıcı adı ve parola isteyin. Daha sonra kullanıcının kullanıcı adı ve parolasının karakter uzunluğunun toplam 20 karakterden fazla olup-olmadığını denetleyin. 20 karakterden uzun olduğu durumda bir uyarı mesajı verin. Program sonunda elde edeceğiniz çıktı şu şekilde olmalı:"
   ]
  },
  {
   "cell_type": "raw",
   "metadata": {},
   "source": [
    "\"Kullanıcı adı ve parolanızın toplam uzunluğu 20 karakteri geçmemeli!\""
   ]
  },
  {
   "cell_type": "code",
   "execution_count": null,
   "metadata": {},
   "outputs": [],
   "source": [
    "kullanıcı_adi=input(\"Lütfen bir kullanıcı adı girin:\")\n",
    "password=input(\"Lütfen bir şifre girin:\")\n",
    "if(len(kullanıcı_adi)+len(password)>20):\n",
    "    print(\"Kullanıcı adı ve parolanın uzunlluğu 20 karakteri geçmemeli!\")\n",
    "else:\n",
    "    print(\"Kullanıcı kayı başarılı.\")"
   ]
  },
  {
   "cell_type": "code",
   "execution_count": null,
   "metadata": {},
   "outputs": [],
   "source": []
  },
  {
   "cell_type": "code",
   "execution_count": null,
   "metadata": {},
   "outputs": [],
   "source": []
  },
  {
   "cell_type": "code",
   "execution_count": null,
   "metadata": {},
   "outputs": [],
   "source": []
  },
  {
   "cell_type": "code",
   "execution_count": null,
   "metadata": {},
   "outputs": [],
   "source": []
  },
  {
   "cell_type": "markdown",
   "metadata": {},
   "source": [
    "# Bir kullanıcı giriş paneli hazırlayın. Kullanıcı adı ve parolasının doğru olup-olmadığını denetleyin ve buna göre kullanıcıya yazılı mesajlar verin. Program sonunda şu şekilde bir çıktı elde etmiş olmalısınız:"
   ]
  },
  {
   "cell_type": "raw",
   "metadata": {},
   "source": [
    "Kullanıcı adı ve parola doğru olduğunda:\n",
    "\"Hoşgeldiniz.\"\n",
    "Yanlış olduğunda:\n",
    "\"Lütfen kullanıcı adınızı ya da parolanızı tekrar kontrol ediniz.\""
   ]
  },
  {
   "cell_type": "code",
   "execution_count": null,
   "metadata": {},
   "outputs": [],
   "source": [
    "kullanıcı_adi=\"emreemir\"\n",
    "password=\"emreemir1903\"\n",
    "kullanıcı_adi_=input(\"Lütfen kullanıcı adınızı girin:\")\n",
    "password_=input(\"Lütfen şifrenizi girin:\")\n",
    "if(kullanıcı_adi_==kullanıcı_adi_ and password==password_):\n",
    "    print(\"Hoşgeldiniz: {}\".format(kullanıcı_adi))\n",
    "else:\n",
    "    print(\"Lütfen kullanıcı adınızı ya da parolanızı kontrol ediniz!\")\n"
   ]
  },
  {
   "cell_type": "code",
   "execution_count": null,
   "metadata": {},
   "outputs": [],
   "source": []
  },
  {
   "cell_type": "code",
   "execution_count": null,
   "metadata": {},
   "outputs": [],
   "source": []
  },
  {
   "cell_type": "code",
   "execution_count": null,
   "metadata": {},
   "outputs": [],
   "source": []
  },
  {
   "cell_type": "markdown",
   "metadata": {},
   "source": [
    "# Bir not hesaplayıcı programı yazın. Burada kullanıcıdan ilk ve ikinci vize notlarını ve final notunu girmesini talep edin. Daha sonra kullanıcıya AA, BA, BB vb. gibi notunun harf karşılığını hesaplayıp yazdırın. \n",
    "Vize 1: %30\n",
    "Vize 2: %30\n",
    "Final: %40"
   ]
  },
  {
   "cell_type": "raw",
   "metadata": {},
   "source": [
    "Harf Notu Karşılıkları\n",
    "AA\t90-100\t\n",
    "BA\t85-89\t\n",
    "BB\t80-84\t\n",
    "CB\t75-79\t\n",
    "CC\t70-74\t\n",
    "DC\t65-69\t\n",
    "DD\t60-64\t\n",
    "FD\t50-59\t\n",
    "FF\t0-49"
   ]
  },
  {
   "cell_type": "code",
   "execution_count": null,
   "metadata": {},
   "outputs": [],
   "source": [
    "vize1=int(input(\"Lütfen ilk vize notunuzu girin:\"))\n",
    "vize2=int(input(\"Lütfen ikinci vize notunuzu girin:\"))\n",
    "final=int(input(\"Lütfen final notunuzu girin:\"))\n",
    "not_ortalamasi=((vize1*30)+(vize2*30)+(final*40))/100\n",
    "if(90<=not_ortalamasi):\n",
    "    print(\"Notunuz: {} dir ve harf notunuz AA dır\".format(not_ortalamasi))\n",
    "elif(85<=not_ortalamasi):\n",
    "    print(\"Notunuz: {} dir ve harf notunuz BA dır\".format(not_ortalamasi))\n",
    "elif (80<= not_ortalamasi):\n",
    "    print(\"Notunuz: {} dir ve harf notunuz BB dır\".format(not_ortalamasi))\n",
    "elif (75 <= not_ortalamasi):\n",
    "    print(\"Notunuz: {} dir ve harf notunuz CB dır\".format(not_ortalamasi))\n",
    "elif (70 <= not_ortalamasi):\n",
    "    print(\"Notunuz: {} dir ve harf notunuz CC dır\".format(not_ortalamasi))\n",
    "elif(65<=not_ortalamasi):\n",
    "    print(\"Notunuz: {} dir ve harf notunuz DC dır\".format(not_ortalamasi))\n",
    "elif (60 <= not_ortalamasi):\n",
    "    print(\"Notunuz: {} dir ve harf notunuz DD dır\".format(not_ortalamasi))\n",
    "elif (50 <= not_ortalamasi):\n",
    "    print(\"Notunuz: {} dir ve harf notunuz FD dır\".format(not_ortalamasi))\n",
    "else:\n",
    "    print(\"Notunuz: {} dir ve harf notunuz DD dır\".format(not_ortalamasi))"
   ]
  },
  {
   "cell_type": "code",
   "execution_count": null,
   "metadata": {},
   "outputs": [],
   "source": []
  },
  {
   "cell_type": "code",
   "execution_count": null,
   "metadata": {},
   "outputs": [],
   "source": []
  },
  {
   "cell_type": "code",
   "execution_count": null,
   "metadata": {},
   "outputs": [],
   "source": []
  },
  {
   "cell_type": "markdown",
   "metadata": {},
   "source": [
    "# Bir pizzacının fiş hesaplama programını yazın. Kullanıcıya ne tür bir pizza istediğini sorun ve kullanıcının istediği pizza türüne göre ödemesi gereken meblağı kullanıcıya gösterin. Program sonunda elde edeceğiniz çıktı şu şekilde olmalı:"
   ]
  },
  {
   "cell_type": "raw",
   "metadata": {},
   "source": [
    "\"Seçiminiz: Orta Boy\n",
    "Ödemeniz Gereken Miktar: 22 TL\""
   ]
  },
  {
   "cell_type": "raw",
   "metadata": {},
   "source": [
    "Büyük Boy: 30 TL\n",
    "Orta Boy: 22 TL\n",
    "Küçük Boy: 15 TL"
   ]
  },
  {
   "cell_type": "code",
   "execution_count": null,
   "metadata": {},
   "outputs": [],
   "source": [
    "print(\"Pizza Fiyatları\\n\"\n",
    "      \"Küçük: 15 TL \\n\"\n",
    "      \"Orta: 22 TL\\n\"\n",
    "      \"Büyük: 30 TL\")\n",
    "pizza_secimi=input(\"Hangi boy pizza istersiniz:\\n\"\n",
    "                   \"(Lütfen seçiminizin tamamını küçük harflerle girin)\\n\"\n",
    "                   \":\")\n",
    "if(pizza_secimi==\"küçük\"):\n",
    "    print(\"Seçtiğiniz pizza: {} boy. Fiyat: 15 TL\".format(pizza_secimi))\n",
    "elif(pizza_secimi==\"orta\"):\n",
    "    print(\"Seçtiğiniz pizza: {} boy. Fiyat: 22 TL\".format(pizza_secimi))\n",
    "elif(pizza_secimi==\"büyük\"):\n",
    "    print(\"Seçtiğiniz pizza: {} boy. Fiyat: 30 TL\".format(pizza_secimi))\n",
    "else:\n",
    "    print(\"Lütfen seçiminizi kontrol edin!\")"
   ]
  },
  {
   "cell_type": "code",
   "execution_count": null,
   "metadata": {},
   "outputs": [],
   "source": []
  },
  {
   "cell_type": "code",
   "execution_count": null,
   "metadata": {},
   "outputs": [],
   "source": []
  },
  {
   "cell_type": "code",
   "execution_count": null,
   "metadata": {},
   "outputs": [],
   "source": []
  },
  {
   "cell_type": "code",
   "execution_count": null,
   "metadata": {},
   "outputs": [],
   "source": []
  },
  {
   "cell_type": "code",
   "execution_count": null,
   "metadata": {},
   "outputs": [],
   "source": []
  },
  {
   "cell_type": "markdown",
   "metadata": {},
   "source": [
    "# Bir AVM'ye ateş ölçer programı yazmalısınız. Kullanıcıya ateşini sorun daha sonra ateşinin derecesine göre AVM'ye girip-giremeyeceğini kullanıcıya belirtin. Program sonunda şöyle bir çıktı elde etmelisiniz:"
   ]
  },
  {
   "cell_type": "raw",
   "metadata": {},
   "source": [
    "\"Ateşiniz 39 derece. AVM'ye Giremezsiniz!\""
   ]
  },
  {
   "cell_type": "code",
   "execution_count": null,
   "metadata": {},
   "outputs": [],
   "source": [
    "derece=float(input(\"Lütfen ateşinizin derecesini girin:\"))\n",
    "if(derece<=36.5):\n",
    "    print(\"Ateşiniz: {} derecedir. AVM'ye girebilirsiniz.\".format(derece))\n",
    "else:\n",
    "    print(\"Ateşiniz: {} derecedir. AVM'ye giremezsiniz\".format(derece))"
   ]
  },
  {
   "cell_type": "code",
   "execution_count": null,
   "metadata": {},
   "outputs": [],
   "source": []
  },
  {
   "cell_type": "code",
   "execution_count": null,
   "metadata": {},
   "outputs": [],
   "source": []
  }
 ],
 "metadata": {
  "kernelspec": {
   "display_name": "Python 3",
   "language": "python",
   "name": "python3"
  },
  "language_info": {
   "codemirror_mode": {
    "name": "ipython",
    "version": 3
   },
   "file_extension": ".py",
   "mimetype": "text/x-python",
   "name": "python",
   "nbconvert_exporter": "python",
   "pygments_lexer": "ipython3",
   "version": "3.8.5"
  }
 },
 "nbformat": 4,
 "nbformat_minor": 4
}
