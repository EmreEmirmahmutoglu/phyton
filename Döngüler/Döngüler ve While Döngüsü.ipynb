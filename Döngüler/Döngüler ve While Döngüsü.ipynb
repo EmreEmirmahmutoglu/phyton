{
 "cells": [
  {
   "cell_type": "markdown",
   "metadata": {},
   "source": [
    "# While Döngüsü"
   ]
  },
  {
   "cell_type": "markdown",
   "metadata": {},
   "source": [
    "# While Döngüsünün Yapısı"
   ]
  },
  {
   "cell_type": "code",
   "execution_count": 2,
   "metadata": {},
   "outputs": [
    {
     "name": "stdout",
     "output_type": "stream",
     "text": [
      "Bilgisayar\n",
      "Bilgisayar\n",
      "Bilgisayar\n",
      "Bilgisayar\n",
      "Bilgisayar\n",
      "Bilgisayar\n"
     ]
    }
   ],
   "source": [
    "a=10\n",
    "while(a<=15):\n",
    "    print(\"Bilgisayar\")\n",
    "    a+=1"
   ]
  },
  {
   "cell_type": "code",
   "execution_count": 1,
   "metadata": {},
   "outputs": [
    {
     "data": {
      "text/plain": [
       "5"
      ]
     },
     "execution_count": 1,
     "metadata": {},
     "output_type": "execute_result"
    }
   ],
   "source": [
    "2+3\n"
   ]
  },
  {
   "cell_type": "code",
   "execution_count": null,
   "metadata": {},
   "outputs": [],
   "source": []
  },
  {
   "cell_type": "code",
   "execution_count": null,
   "metadata": {},
   "outputs": [],
   "source": []
  },
  {
   "cell_type": "code",
   "execution_count": null,
   "metadata": {},
   "outputs": [],
   "source": []
  },
  {
   "cell_type": "code",
   "execution_count": null,
   "metadata": {},
   "outputs": [],
   "source": []
  },
  {
   "cell_type": "markdown",
   "metadata": {},
   "source": [
    "# Hesap Makinesi Örneği"
   ]
  },
  {
   "cell_type": "code",
   "execution_count": null,
   "metadata": {},
   "outputs": [],
   "source": []
  },
  {
   "cell_type": "code",
   "execution_count": null,
   "metadata": {},
   "outputs": [
    {
     "name": "stdout",
     "output_type": "stream",
     "text": [
      "Lütfen aşağıdaki işlemlerden birisini seçerek entre'a basın.\n",
      "Toplama = +\n",
      "    Çıkarma = -\n",
      "    Çarpma = *\n",
      "    Bölme = /\n",
      "    Çıkmak için 'q'\n"
     ]
    }
   ],
   "source": [
    "kontrol=0\n",
    "while(kontrol==0):\n",
    "\n",
    "\n",
    "    print(\"Lütfen aşağıdaki işlemlerden birisini seçerek entre'a basın.\")\n",
    "    print(\"\"\"Toplama = +\n",
    "    Çıkarma = -\n",
    "    Çarpma = *\n",
    "    Bölme = /\n",
    "    Çıkmak için 'q'\"\"\")\n",
    "\n",
    "    islem = input(\"Lütfen seçtiğiniz işlemi girin: \")\n",
    "\n",
    "    if(islem=='q'):\n",
    "        print(\"Programdan çıkılıyor...\")\n",
    "        kontrol=1\n",
    "\n",
    "    elif(islem == \"+\"):\n",
    "        a = int(input(\"Lütfen ilk sayıyı girin: \"))\n",
    "        b = int(input(\"Lütfen ikinci sayıyı girin: \"))\n",
    "        print(a+b)\n",
    "    elif(islem == \"-\"):\n",
    "        a = int(input(\"Lütfen ilk sayıyı girin: \"))\n",
    "        b = int(input(\"Lütfen ikinci sayıyı girin: \"))\n",
    "        print(a - b)\n",
    "    elif(islem == \"*\"):\n",
    "        a = int(input(\"Lütfen ilk sayıyı girin: \"))\n",
    "        b = int(input(\"Lütfen ikinci sayıyı girin: \"))\n",
    "        print(a * b)\n",
    "    elif(islem == \"/\"):\n",
    "        a = int(input(\"Lütfen ilk sayıyı girin: \"))\n",
    "        b = int(input(\"Lütfen ikinci sayıyı girin: \"))\n",
    "        print(a / b)\n",
    "    else:\n",
    "        print(\"Geçersiz İşlem\")"
   ]
  },
  {
   "cell_type": "code",
   "execution_count": null,
   "metadata": {},
   "outputs": [],
   "source": []
  },
  {
   "cell_type": "code",
   "execution_count": null,
   "metadata": {},
   "outputs": [],
   "source": []
  },
  {
   "cell_type": "code",
   "execution_count": null,
   "metadata": {},
   "outputs": [],
   "source": []
  },
  {
   "cell_type": "markdown",
   "metadata": {},
   "source": [
    "# Bir Kodun Nasıl çalıştığının anlaşılması"
   ]
  },
  {
   "cell_type": "code",
   "execution_count": null,
   "metadata": {},
   "outputs": [],
   "source": []
  },
  {
   "cell_type": "code",
   "execution_count": null,
   "metadata": {},
   "outputs": [],
   "source": []
  },
  {
   "cell_type": "code",
   "execution_count": null,
   "metadata": {},
   "outputs": [],
   "source": []
  },
  {
   "cell_type": "code",
   "execution_count": null,
   "metadata": {},
   "outputs": [],
   "source": []
  },
  {
   "cell_type": "code",
   "execution_count": null,
   "metadata": {},
   "outputs": [],
   "source": []
  },
  {
   "cell_type": "code",
   "execution_count": null,
   "metadata": {},
   "outputs": [],
   "source": []
  },
  {
   "cell_type": "code",
   "execution_count": null,
   "metadata": {},
   "outputs": [],
   "source": []
  }
 ],
 "metadata": {
  "kernelspec": {
   "display_name": "Python 3",
   "language": "python",
   "name": "python3"
  },
  "language_info": {
   "codemirror_mode": {
    "name": "ipython",
    "version": 3
   },
   "file_extension": ".py",
   "mimetype": "text/x-python",
   "name": "python",
   "nbconvert_exporter": "python",
   "pygments_lexer": "ipython3",
   "version": "3.8.5"
  }
 },
 "nbformat": 4,
 "nbformat_minor": 4
}
