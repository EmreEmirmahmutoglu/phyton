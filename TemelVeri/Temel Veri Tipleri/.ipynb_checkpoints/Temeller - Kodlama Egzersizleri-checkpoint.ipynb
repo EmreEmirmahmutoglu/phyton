{
 "cells": [
  {
   "cell_type": "markdown",
   "metadata": {},
   "source": [
    "# Kullanıcının ismini soran ve sonra kullanıcının ismini ekrana bastıran bir program yazın"
   ]
  },
  {
   "cell_type": "code",
   "execution_count": 1,
   "metadata": {},
   "outputs": [
    {
     "name": "stdout",
     "output_type": "stream",
     "text": [
      "Lütfen isim giriniz: emre\n",
      "emre\n"
     ]
    }
   ],
   "source": [
    "isim=input(\"Lütfen isim giriniz: \")\n",
    "print(isim)\n"
   ]
  },
  {
   "cell_type": "code",
   "execution_count": null,
   "metadata": {},
   "outputs": [],
   "source": []
  },
  {
   "cell_type": "markdown",
   "metadata": {},
   "source": [
    "\n",
    "# format() metodunu kullanarak aşağıdaki dilekçe örneğini kullanıcıdan aldığınız verileri ile tamamlayın."
   ]
  },
  {
   "cell_type": "markdown",
   "metadata": {},
   "source": [
    "TIP FAKÜLTESİ DEKANLIĞINA\n",
    "                                                                             İSTANBUL\n",
    "\t\t\t\t\t\t\t\t\t\t        .../.../20..\n",
    "\n",
    "\n",
    "Konu:....\n",
    "\n",
    "Gereğinin yapılmasını arz ederim.\n",
    "Saygılarımla,\n",
    "\n",
    "Ad-Soyad:...\n",
    "\n",
    "Adres Bilgileri:... \t\t\t\t\t\t\t\t\t\n",
    "                                                \n",
    "Telefon:...\n",
    "\n",
    " \n"
   ]
  },
  {
   "cell_type": "code",
   "execution_count": null,
   "metadata": {},
   "outputs": [],
   "source": [
    "dilekce= \"\"\"\n",
    "TIP FAKÜLTESİ DEKANLIĞINA İSTANBUL {}/{}/{}\n",
    "\n",
    "Konu:{}\n",
    "\n",
    "Gereğinin yapılmasını arz ederim. Saygılarımla,\n",
    "\n",
    "Ad-Soyad:{}\n",
    "\n",
    "Adres Bilgileri:{}\n",
    "\n",
    "Telefon:{}12\n",
    "\n",
    "\"\"\"\n",
    "gun= input(\"Günü girin: \")\n",
    "ay= input(\"Ayı girin: \")\n",
    "yil= input(\"Yılı girin: \")\n",
    "konu= input(\"Konuyu girin:\")\n",
    "adsoyad= input(\"Ad-Soyad girin: \")\n",
    "adres= input(\"Adres girin:\")\n",
    "telefon = input(\"Telefon girin:\")\n",
    "\n",
    "print(dilekce.format(gun,ay,yil,konu,adsoyad,adres,telefon))"
   ]
  },
  {
   "cell_type": "code",
   "execution_count": null,
   "metadata": {},
   "outputs": [],
   "source": []
  },
  {
   "cell_type": "markdown",
   "metadata": {},
   "source": [
    "# Kullanıcının doğum tarihini isteyip şu anda kaç yaşında olduğunu hesaplayan bir program yazın"
   ]
  },
  {
   "cell_type": "code",
   "execution_count": null,
   "metadata": {},
   "outputs": [],
   "source": [
    "dogum=int(input(\"Lütfen doğum tarihinizi girin:\"))\n",
    "yas= 2021-dogum\n",
    "print(yas)"
   ]
  },
  {
   "cell_type": "code",
   "execution_count": null,
   "metadata": {},
   "outputs": [],
   "source": []
  },
  {
   "cell_type": "code",
   "execution_count": null,
   "metadata": {},
   "outputs": [],
   "source": []
  },
  {
   "cell_type": "markdown",
   "metadata": {},
   "source": [
    "# Bir kullanıcıdan bir dairenin çap bilgisini isteyin. Daha sonra bu bilgiyi kullanarak o dairenin çevresini hesaplayan bir program yazın. (Daire Çevresi Formülü: 2 *  π * r)  π sayısı=3.14"
   ]
  },
  {
   "cell_type": "code",
   "execution_count": null,
   "metadata": {},
   "outputs": [],
   "source": [
    "r=int(input(\"Lütfen dairenin çapını girin:\"))\n",
    "pi=3.14\n",
    "cevre=2*pi*(r/2)\n",
    "print(\"Daire Çevresi: \", cevre)"
   ]
  },
  {
   "cell_type": "code",
   "execution_count": null,
   "metadata": {},
   "outputs": [],
   "source": []
  },
  {
   "cell_type": "code",
   "execution_count": null,
   "metadata": {},
   "outputs": [],
   "source": []
  },
  {
   "cell_type": "code",
   "execution_count": null,
   "metadata": {},
   "outputs": [],
   "source": []
  },
  {
   "cell_type": "markdown",
   "metadata": {},
   "source": [
    "# Kullanıcıdan bir kelime girmesini isteyin. Daha sonra bu kelimeyi tersten ekrana bastırın."
   ]
  },
  {
   "cell_type": "code",
   "execution_count": null,
   "metadata": {},
   "outputs": [],
   "source": [
    "kelime= input('Lütfen bir kelime giriniz: ')\n",
    "print(kelime[::-1])"
   ]
  },
  {
   "cell_type": "code",
   "execution_count": null,
   "metadata": {},
   "outputs": [],
   "source": []
  },
  {
   "cell_type": "code",
   "execution_count": null,
   "metadata": {},
   "outputs": [],
   "source": []
  },
  {
   "cell_type": "code",
   "execution_count": null,
   "metadata": {},
   "outputs": [],
   "source": []
  },
  {
   "cell_type": "markdown",
   "metadata": {},
   "source": [
    "# Kullanıcıdan bir sayı girmesini isteyin ve sayının çift mi yoksa tek mi olduğunu ekrana bastırın.(Ekrana 0 yazdırılırsa çift, 1 yazdırılırsa sayı tektir.)"
   ]
  },
  {
   "cell_type": "code",
   "execution_count": null,
   "metadata": {},
   "outputs": [],
   "source": [
    "sayi=int(input(\"Lütfen bir sayı giriniz: \"))\n",
    "sonuc=sayi % 2\n",
    "print(sonuc)"
   ]
  },
  {
   "cell_type": "code",
   "execution_count": null,
   "metadata": {},
   "outputs": [],
   "source": []
  },
  {
   "cell_type": "code",
   "execution_count": null,
   "metadata": {},
   "outputs": [],
   "source": []
  },
  {
   "cell_type": "code",
   "execution_count": null,
   "metadata": {},
   "outputs": [],
   "source": []
  },
  {
   "cell_type": "markdown",
   "metadata": {},
   "source": [
    "# Kullanıcıdan bir sayı girmesini isteyin ve girilen sayının karesini ve küpünü ekrana bastırın."
   ]
  },
  {
   "cell_type": "code",
   "execution_count": null,
   "metadata": {},
   "outputs": [],
   "source": [
    "sayi=int(input(\"Lütfen bir sayı giriniz:\"))\n",
    "karesi= sayi**2\n",
    "kupu=sayi**3\n",
    "print(\"Girilen sayının karesi:\",karesi,\"'dir.Girilen sayının küpü: \", kupu,\"'dür.\")"
   ]
  },
  {
   "cell_type": "code",
   "execution_count": null,
   "metadata": {},
   "outputs": [],
   "source": []
  },
  {
   "cell_type": "code",
   "execution_count": null,
   "metadata": {},
   "outputs": [],
   "source": []
  },
  {
   "cell_type": "code",
   "execution_count": null,
   "metadata": {},
   "outputs": [],
   "source": []
  },
  {
   "cell_type": "markdown",
   "metadata": {},
   "source": [
    "# Kullanıcıdan bir sayı girmesini isteyin ve girilen sayının karekökünü ekrana bastırın."
   ]
  },
  {
   "cell_type": "code",
   "execution_count": null,
   "metadata": {},
   "outputs": [],
   "source": [
    "sayi=int(input(\"Lütfen bir sayı giriniz:\"))\n",
    "karekok= sayi**(1/2)\n",
    "print(\"Girilen sayının karekökü:\",karekok,\"'dür\")"
   ]
  },
  {
   "cell_type": "code",
   "execution_count": null,
   "metadata": {},
   "outputs": [],
   "source": []
  },
  {
   "cell_type": "code",
   "execution_count": null,
   "metadata": {},
   "outputs": [],
   "source": []
  },
  {
   "cell_type": "code",
   "execution_count": null,
   "metadata": {},
   "outputs": [],
   "source": []
  },
  {
   "cell_type": "code",
   "execution_count": null,
   "metadata": {},
   "outputs": [],
   "source": []
  },
  {
   "cell_type": "code",
   "execution_count": null,
   "metadata": {},
   "outputs": [],
   "source": []
  },
  {
   "cell_type": "markdown",
   "metadata": {},
   "source": [
    "# Kullanıcıdan alınan metnin kaç karakterden oluştuğunu ekrana yazdıran bir program yazın."
   ]
  },
  {
   "cell_type": "code",
   "execution_count": null,
   "metadata": {},
   "outputs": [],
   "source": [
    "metin= input(\"Lütfen bir metin giriniz:\")\n",
    "print(len(metin))"
   ]
  },
  {
   "cell_type": "code",
   "execution_count": null,
   "metadata": {},
   "outputs": [],
   "source": []
  },
  {
   "cell_type": "code",
   "execution_count": null,
   "metadata": {},
   "outputs": [],
   "source": []
  },
  {
   "cell_type": "code",
   "execution_count": null,
   "metadata": {},
   "outputs": [],
   "source": []
  },
  {
   "cell_type": "markdown",
   "metadata": {},
   "source": [
    "# Kullanıcıdan alınan bir cümlenin 0. indeksi ile 10. indeksi arasındaki karakterleri 2'şer atlayarak ekrana bastırın."
   ]
  },
  {
   "cell_type": "code",
   "execution_count": null,
   "metadata": {},
   "outputs": [],
   "source": [
    "cumle= input(\"Lütfen bir cümle giriniz:\")\n",
    "print(cumle[0:10:2])"
   ]
  },
  {
   "cell_type": "code",
   "execution_count": null,
   "metadata": {},
   "outputs": [],
   "source": []
  },
  {
   "cell_type": "code",
   "execution_count": null,
   "metadata": {},
   "outputs": [],
   "source": []
  },
  {
   "cell_type": "code",
   "execution_count": null,
   "metadata": {},
   "outputs": [],
   "source": []
  },
  {
   "cell_type": "markdown",
   "metadata": {},
   "source": [
    "# Kullanıcıdan alınan bir kısaltmanın her harfinin arasına nokta karakteri yazarak ekrana bastırın.(Örnek: İETT)"
   ]
  },
  {
   "cell_type": "code",
   "execution_count": null,
   "metadata": {},
   "outputs": [],
   "source": [
    "kisaltma=input(\"Lütfen bir kısaltma giriniz:\")\n",
    "print(*kisaltma,sep= \".\")"
   ]
  },
  {
   "cell_type": "code",
   "execution_count": null,
   "metadata": {},
   "outputs": [],
   "source": []
  },
  {
   "cell_type": "code",
   "execution_count": null,
   "metadata": {},
   "outputs": [],
   "source": []
  },
  {
   "cell_type": "code",
   "execution_count": null,
   "metadata": {},
   "outputs": [],
   "source": []
  },
  {
   "cell_type": "markdown",
   "metadata": {},
   "source": [
    "# Kullanıcının hangi ayda ne kadar doğalgaz faturası ödeyeceğini hesaplayan bir program yazın. İlk olarak hangi ayı hesaplamak istediğini sorun daha sonra o ayda kaç metreküp doğalgaz kullandığını sorun. Daha sonra ekrana \"Şu ayda şu kadar fatura ödemeniz gerekiyor.\" şeklinde bir cümle bastırın. (Doğalgazın metreküp fiyatı: 1.54)."
   ]
  },
  {
   "cell_type": "code",
   "execution_count": null,
   "metadata": {},
   "outputs": [],
   "source": [
    "ay= input(\"Lütfen hangi ayda olduğunuzu girin:\")\n",
    "mkup= int(input(\"Lütfen girdiğiniz ayda kaç metreküp doğalgaz kullandığınızı giriniz: \"))\n",
    "fiyat=1.54\n",
    "fatura= mkup*fiyat\n",
    "print(ay,\". ayda \",fatura,\"lira kadar fatura ödemeniz gerekiyor\")"
   ]
  },
  {
   "cell_type": "code",
   "execution_count": null,
   "metadata": {},
   "outputs": [],
   "source": []
  },
  {
   "cell_type": "code",
   "execution_count": null,
   "metadata": {},
   "outputs": [],
   "source": []
  },
  {
   "cell_type": "code",
   "execution_count": null,
   "metadata": {},
   "outputs": [],
   "source": []
  },
  {
   "cell_type": "markdown",
   "metadata": {},
   "source": [
    "# eval() fonksiyonunu kullanarak bir hesap makinesi yapın."
   ]
  },
  {
   "cell_type": "code",
   "execution_count": null,
   "metadata": {},
   "outputs": [],
   "source": [
    "hesap_makinesi= input(\"\"\"\n",
    "Hesap Makinesi\n",
    "\n",
    "İşleçler\n",
    "Toplama= +\n",
    "Çıkarma= -\n",
    "Çarpma= *\n",
    "Bölme= /\n",
    "\n",
    "Lütfen gireceğiniz hesabı şu şekilde girin: 43*45\n",
    "\n",
    "İşlem:\n",
    "\"\"\")\n",
    "\n",
    "print(\"Sonuç=\",eval(hesap_makinesi))"
   ]
  },
  {
   "cell_type": "code",
   "execution_count": null,
   "metadata": {},
   "outputs": [],
   "source": []
  },
  {
   "cell_type": "code",
   "execution_count": null,
   "metadata": {},
   "outputs": [],
   "source": []
  },
  {
   "cell_type": "code",
   "execution_count": null,
   "metadata": {},
   "outputs": [],
   "source": []
  },
  {
   "cell_type": "code",
   "execution_count": null,
   "metadata": {},
   "outputs": [],
   "source": []
  }
 ],
 "metadata": {
  "kernelspec": {
   "display_name": "Python 3",
   "language": "python",
   "name": "python3"
  },
  "language_info": {
   "codemirror_mode": {
    "name": "ipython",
    "version": 3
   },
   "file_extension": ".py",
   "mimetype": "text/x-python",
   "name": "python",
   "nbconvert_exporter": "python",
   "pygments_lexer": "ipython3",
   "version": "3.8.5"
  }
 },
 "nbformat": 4,
 "nbformat_minor": 4
}
