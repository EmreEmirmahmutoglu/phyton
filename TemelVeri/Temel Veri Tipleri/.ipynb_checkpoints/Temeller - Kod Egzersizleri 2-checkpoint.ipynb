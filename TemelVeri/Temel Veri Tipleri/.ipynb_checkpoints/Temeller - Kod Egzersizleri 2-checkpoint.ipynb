{
 "cells": [
  {
   "cell_type": "markdown",
   "metadata": {},
   "source": [
    "# Sözlükleri Kullanarak Bir Telefon Rehberi Yazın. Bu rehberde kullanıcıya kimin telefonunu görüntülemek istediğini sorun ve kullanıcının girdiği isme göre o kişinin telefon numarasını yazdırın. Proje sonunda elde edeceğiniz çıktı şuna benzer olmalı:"
   ]
  },
  {
   "cell_type": "raw",
   "metadata": {},
   "source": [
    "Lütfen numarasını öğrenmek istediğiniz kişinin adını girin: Ahmet\n",
    "Ahmet isimli kişinin numarası şu şekildedir: 0532 862 98 47"
   ]
  },
  {
   "cell_type": "code",
   "execution_count": null,
   "metadata": {},
   "outputs": [],
   "source": [
    "telefon_rehberi= {\"Ahmet\": \"0532 862 1595\",\n",
    "                  \"Mehmet\": \"0533 158 12 14\",\n",
    "                  \"Ayşe\": \"0312 369 45 12\",\n",
    "                  \"Sude\": \"0316 584 12 15\"}\n",
    "kisi= input(\"Lütfen numarasını öğrenmek istediğiniz kişinin ismini girin: \")\n",
    "\n",
    "print(\"{} isimli kişinin telefon numarası şu şekildedir: {}\".format(kisi,telefon_rehberi[kisi]))"
   ]
  },
  {
   "cell_type": "code",
   "execution_count": null,
   "metadata": {},
   "outputs": [],
   "source": []
  },
  {
   "cell_type": "code",
   "execution_count": null,
   "metadata": {},
   "outputs": [],
   "source": []
  },
  {
   "cell_type": "code",
   "execution_count": null,
   "metadata": {},
   "outputs": [],
   "source": []
  },
  {
   "cell_type": "code",
   "execution_count": null,
   "metadata": {},
   "outputs": [],
   "source": []
  },
  {
   "cell_type": "code",
   "execution_count": null,
   "metadata": {},
   "outputs": [],
   "source": []
  },
  {
   "cell_type": "markdown",
   "metadata": {},
   "source": [
    "# Sözlükleri kullanarak bir şirket çalışanları indeksi oluşturun. Bu isim indeksinde kişilerin isimleri key, kişilerin şu bilgileri de value olmalı: memleket, yaş, görev. Burada kullanacağımız value liste olmalı. Daha sonra bir isim sorgulama ekranı gibi kullanıcıya kimin bilgilerini görüntülemek istediğini sorun ve sorgulanan kişinin ekranda gösterilmesini sağlayın. Proje sonunda elde edeceğiniz çıktı şu şekilde olmalı:"
   ]
  },
  {
   "cell_type": "raw",
   "metadata": {},
   "source": [
    "Lütfen bilgilerini görüntülemek istediğiniz çalışanın ismini girin: Mehmet Yağız\n",
    "Mehmet Yağız= Memleket: Adana Yaş: 40 Görev: Direktör"
   ]
  },
  {
   "cell_type": "code",
   "execution_count": 1,
   "metadata": {},
   "outputs": [
    {
     "name": "stdout",
     "output_type": "stream",
     "text": [
      "Lütfen bilgilerini görüntülemek istediğiniz çalışanların isimlerini giriniz: Ahmet Tozkoparan\n",
      "Ahmet Tozkoparan= Memleket:Ankara, Yaş:39, Görevi: Genel Müdür\n"
     ]
    }
   ],
   "source": [
    "calisanlar= {\"Mehmet Yağız\": [\"İstanbul\",40,\"Direktör\"],\n",
    "             \"Ahmet Tozkoparan\":[\"Ankara\",39,\"Genel Müdür\"],\n",
    "             \"Ayşe Gündüz\": [\"Samsun\",42,\"Departman Müdürü\"]}\n",
    "\n",
    "kisi= input(\"Lütfen bilgilerini görüntülemek istediğiniz çalışanların isimlerini giriniz: \")\n",
    "\n",
    "print(\"{}= Memleket:{}, Yaş:{}, Görevi: {}\".format(kisi,calisanlar[kisi][0],\n",
    "                                                   calisanlar[kisi][1],\n",
    "                                                   calisanlar[kisi][2]))"
   ]
  },
  {
   "cell_type": "code",
   "execution_count": null,
   "metadata": {},
   "outputs": [],
   "source": []
  },
  {
   "cell_type": "code",
   "execution_count": null,
   "metadata": {},
   "outputs": [],
   "source": []
  },
  {
   "cell_type": "code",
   "execution_count": null,
   "metadata": {},
   "outputs": [],
   "source": []
  },
  {
   "cell_type": "code",
   "execution_count": null,
   "metadata": {},
   "outputs": [],
   "source": []
  },
  {
   "cell_type": "code",
   "execution_count": null,
   "metadata": {},
   "outputs": [],
   "source": []
  },
  {
   "cell_type": "code",
   "execution_count": null,
   "metadata": {},
   "outputs": [],
   "source": []
  },
  {
   "cell_type": "markdown",
   "metadata": {},
   "source": [
    "# 5 öğrenciden oluşan bir öğrenci not sözlüğü oluşturun. Bu sözlükte öğrencilerin notları value olarak bir listede toplansın. Kullanıcıya hangi öğrencinin notlarını görmek istediğini sorun. Öğrencinin notu görüntülendiğinde program sonunda şöyle bir çıktı elde etmelisiniz:"
   ]
  },
  {
   "cell_type": "raw",
   "metadata": {},
   "source": [
    "Lütfen notlarını görmek istediğiniz öğrencinin adını girin: Mehmet\n",
    "Mehmet isimli öğrencinin 1.Sınav Notu:72\n",
    "                              2.Sınav Notu:66\n",
    "                              3.Sınav Notu:48\n",
    "Not Ortalaması: 62.0"
   ]
  },
  {
   "cell_type": "code",
   "execution_count": null,
   "metadata": {},
   "outputs": [],
   "source": [
    "ogrenciler= {\"Ahmet\": [80,85,83],\n",
    "             \"Ayşe\": [77,95,63],\n",
    "             \"Mehmet\": [65,52,49],\n",
    "             \"Sude\": [92,97,99]}\n",
    "kisi=input(\"Lütfen notlarını görüntülemek istediğiniz öğrencinin adını girin: \")\n",
    "\n",
    "print(\"\"\"{} isimli öğrencinin 1. Sınav Notu: {}\n",
    "                              2. Sınav Notu: {}\n",
    "                              3. Sınav Notu: {}\n",
    "                              Not Ortalaması: {}\"\"\".format(kisi,ogrenciler[kisi][0],\n",
    "                                                          ogrenciler[kisi][1],\n",
    "                                                          ogrenciler[kisi][2],\n",
    "                                                           (ogrenciler[kisi][0]+ogrenciler[kisi][1]+ogrenciler[kisi][2])/3 ))"
   ]
  },
  {
   "cell_type": "code",
   "execution_count": null,
   "metadata": {},
   "outputs": [],
   "source": []
  },
  {
   "cell_type": "code",
   "execution_count": null,
   "metadata": {},
   "outputs": [],
   "source": []
  },
  {
   "cell_type": "code",
   "execution_count": null,
   "metadata": {},
   "outputs": [],
   "source": []
  },
  {
   "cell_type": "code",
   "execution_count": null,
   "metadata": {},
   "outputs": [],
   "source": []
  },
  {
   "cell_type": "markdown",
   "metadata": {},
   "source": [
    "# Bir tuple oluşturarak tuple üzerinde index ve count metotlarını kullanın."
   ]
  },
  {
   "cell_type": "code",
   "execution_count": 5,
   "metadata": {},
   "outputs": [],
   "source": [
    "demet = (2,2,2,4,6,6,6,9)"
   ]
  },
  {
   "cell_type": "code",
   "execution_count": 6,
   "metadata": {},
   "outputs": [
    {
     "data": {
      "text/plain": [
       "(2, 2, 2, 4, 6, 6, 6, 9)"
      ]
     },
     "execution_count": 6,
     "metadata": {},
     "output_type": "execute_result"
    }
   ],
   "source": [
    "demet"
   ]
  },
  {
   "cell_type": "code",
   "execution_count": 7,
   "metadata": {},
   "outputs": [
    {
     "ename": "NameError",
     "evalue": "name 'demek' is not defined",
     "output_type": "error",
     "traceback": [
      "\u001b[1;31m---------------------------------------------------------------------------\u001b[0m",
      "\u001b[1;31mNameError\u001b[0m                                 Traceback (most recent call last)",
      "\u001b[1;32m<ipython-input-7-150c0b266381>\u001b[0m in \u001b[0;36m<module>\u001b[1;34m\u001b[0m\n\u001b[1;32m----> 1\u001b[1;33m \u001b[0mdemek\u001b[0m\u001b[1;33m.\u001b[0m\u001b[0mindex\u001b[0m\u001b[1;33m(\u001b[0m\u001b[1;36m9\u001b[0m\u001b[1;33m)\u001b[0m\u001b[1;33m\u001b[0m\u001b[1;33m\u001b[0m\u001b[0m\n\u001b[0m",
      "\u001b[1;31mNameError\u001b[0m: name 'demek' is not defined"
     ]
    }
   ],
   "source": [
    "demek.index(9)"
   ]
  },
  {
   "cell_type": "code",
   "execution_count": 8,
   "metadata": {},
   "outputs": [
    {
     "data": {
      "text/plain": [
       "7"
      ]
     },
     "execution_count": 8,
     "metadata": {},
     "output_type": "execute_result"
    }
   ],
   "source": [
    "demet.index(9)"
   ]
  },
  {
   "cell_type": "code",
   "execution_count": 9,
   "metadata": {},
   "outputs": [
    {
     "data": {
      "text/plain": [
       "3"
      ]
     },
     "execution_count": 9,
     "metadata": {},
     "output_type": "execute_result"
    }
   ],
   "source": [
    "demet.count(2)"
   ]
  },
  {
   "cell_type": "code",
   "execution_count": null,
   "metadata": {},
   "outputs": [],
   "source": []
  },
  {
   "cell_type": "code",
   "execution_count": null,
   "metadata": {},
   "outputs": [],
   "source": []
  }
 ],
 "metadata": {
  "kernelspec": {
   "display_name": "Python 3",
   "language": "python",
   "name": "python3"
  },
  "language_info": {
   "codemirror_mode": {
    "name": "ipython",
    "version": 3
   },
   "file_extension": ".py",
   "mimetype": "text/x-python",
   "name": "python",
   "nbconvert_exporter": "python",
   "pygments_lexer": "ipython3",
   "version": "3.8.5"
  }
 },
 "nbformat": 4,
 "nbformat_minor": 4
}
